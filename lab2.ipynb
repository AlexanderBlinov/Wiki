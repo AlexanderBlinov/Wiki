{
 "cells": [
  {
   "cell_type": "markdown",
   "metadata": {},
   "source": [
    "## Wikipedia scrapy project\n",
    "\n",
    "### items.py"
   ]
  },
  {
   "cell_type": "code",
   "execution_count": null,
   "metadata": {
    "collapsed": true
   },
   "outputs": [],
   "source": [
    "# -*- coding: utf-8 -*-\n",
    "\n",
    "# Define here the models for your scraped items\n",
    "#\n",
    "# See documentation in:\n",
    "# http://doc.scrapy.org/en/latest/topics/items.html\n",
    "\n",
    "import scrapy\n",
    "\n",
    "\n",
    "class WikipediaItem(scrapy.Item):\n",
    "    # define the fields for your item here like:\n",
    "    name = scrapy.Field()\n",
    "    url = scrapy.Field()\n",
    "    description = scrapy.Field()\n",
    "    links = scrapy.Field()"
   ]
  },
  {
   "cell_type": "markdown",
   "metadata": {},
   "source": [
    "### wikipedia_pages.py"
   ]
  },
  {
   "cell_type": "code",
   "execution_count": null,
   "metadata": {
    "collapsed": true
   },
   "outputs": [],
   "source": [
    "from scrapy.spiders import Spider\n",
    "from scrapy.http import Request\n",
    "\n",
    "from wikipedia.items import WikipediaItem\n",
    "from bs4 import BeautifulSoup\n",
    "\n",
    "import re\n",
    "\n",
    "class PagesSpider(Spider):\n",
    "    name = \"wikipedia_pages\"\n",
    "    start_urls = [\n",
    "        \"https://en.wikipedia.org/wiki/United_States\",\n",
    "        \"https://en.wikipedia.org/wiki/Meme\",\n",
    "        \"https://en.wikipedia.org/wiki/Game_of_Thrones\"\n",
    "    ]\n",
    "\n",
    "    allowed_domains = [\"wikipedia.org\"]\n",
    "\n",
    "    visited_urls = set()\n",
    "\n",
    "    body_link_selector = '(//div[@id=\"mw-content-text\"]/p/a/@href)[position() < 100]'\n",
    "    allowed_re = re.compile('https://en\\.wikipedia\\.org/wiki/'\n",
    "                            '(?!((File|Talk|Category|Portal|Special|'\n",
    "                            'Template|Template_talk|Wikipedia|Help|Draft):|Main_Page)).+')\n",
    "\n",
    "    def parse(self, response):\n",
    "        item = WikipediaItem()\n",
    "        soup = BeautifulSoup(response.body, \"lxml\")\n",
    "\n",
    "        item['url'] = response.url\n",
    "        item['name'] = soup.find(\"h1\", {\"id\": \"firstHeading\"}).string\n",
    "        item['description'] = BeautifulSoup(response.xpath('//div[@id=\"mw-content-text\"]/p[1]').extract_first(), \"lxml\").text[:255] + \"...\"\n",
    "        item['links'] = [y for y in [response.urljoin(x) \n",
    "                                     for x in response.xpath(self.body_link_selector).extract() \n",
    "                                     if x[0] != \"#\"] if self.allowed_re.match(y)]\n",
    "        yield item\n",
    "\n",
    "        self.visited_urls.add(response.url)\n",
    "        print(len(self.visited_urls))\n",
    "\n",
    "        for link in item['links']:\n",
    "            if not link in self.visited_urls:\n",
    "                yield Request(link, callback = self.parse)"
   ]
  },
  {
   "cell_type": "markdown",
   "metadata": {},
   "source": [
    "## Scraping\n",
    "\n",
    "Скрэпинг запускался при помощи команды\n",
    "```\n",
    "scrapy crawl wikipedia_pages -o out.json\n",
    "```\n",
    "Для того, чтобы определить сколько было просмотренно страниц, в методе parse спайдера просто выводится количество url-ов, добавленых в visited_urls. После того, как было просмотренно более 10000 страниц, процесс останавливался."
   ]
  },
  {
   "cell_type": "markdown",
   "metadata": {},
   "source": [
    "## Построение графа"
   ]
  },
  {
   "cell_type": "code",
   "execution_count": 14,
   "metadata": {
    "collapsed": true
   },
   "outputs": [],
   "source": [
    "import json\n",
    "import networkx as nx\n",
    "import operator\n",
    "\n",
    "# Десериализация json-файла с результатом scraping-а\n",
    "with open('out.json') as pages_file:\n",
    "    pages = json.load(pages_file)\n",
    "\n",
    "# Множество ссылок посещенных страниц\n",
    "urls = set([x['url'] for x in pages])\n",
    "\n",
    "# Множество всех ссылок, исходящих из посещенных страниц\n",
    "links = set([y for x in pages for y in x['links']])\n",
    "\n",
    "# Множество ссылок, ведущих на страницы, которые не были посещены\n",
    "skip = links.difference(urls)\n",
    "\n",
    "# Построение графа\n",
    "G = nx.DiGraph()\n",
    "G.add_edges_from([(x['url'], y) for x in pages for y in x['links'] if not y in skip])"
   ]
  },
  {
   "cell_type": "markdown",
   "metadata": {},
   "source": [
    "## PageRank"
   ]
  },
  {
   "cell_type": "code",
   "execution_count": 13,
   "metadata": {
    "collapsed": true
   },
   "outputs": [],
   "source": [
    "def pagerank(G, alpha=0.85):\n",
    "    # Вычисления PageRank на графе\n",
    "    pr = nx.pagerank(G, alpha)\n",
    "    \n",
    "    # Сортировка результата\n",
    "    sorted_pr = sorted(pr.items(), key=operator.itemgetter(1), reverse=True)\n",
    "    \n",
    "    # Вывод TOP-10\n",
    "    for x in sorted_pr[:10]:\n",
    "        for y in pages:\n",
    "            if x[0] == y['url']:\n",
    "                print('{} {}\\n{}\\n{}\\n'.format(y['name'], x[1], y['url'], y['description']))"
   ]
  },
  {
   "cell_type": "markdown",
   "metadata": {},
   "source": [
    "### PageRank для alpha = 0.85"
   ]
  },
  {
   "cell_type": "code",
   "execution_count": 8,
   "metadata": {
    "scrolled": true
   },
   "outputs": [
    {
     "name": "stdout",
     "output_type": "stream",
     "text": [
      "United States 0.030729757373793177\n",
      "https://en.wikipedia.org/wiki/United_States\n",
      "Coordinates: 40°N 100°W﻿ / ﻿40°N 100°W﻿ / 40; -100...\n",
      "\n",
      "Ancient Greek 0.009239134942811976\n",
      "https://en.wikipedia.org/wiki/Ancient_Greek\n",
      "Ancient Greek includes the forms of Greek used in ancient Greece and the ancient world from around the 9th century BC to the 6th century AD. It is often roughly divided into the Archaic period (9th to 6th centuries BC), Classical period (5th and 4th centu...\n",
      "\n",
      "DNA 0.006528139533556632\n",
      "https://en.wikipedia.org/wiki/DNA\n",
      "Deoxyribonucleic acid (i/diˈɒksiˌraɪboʊnjʊˌkliːɪk, -ˌkleɪɪk/;[1] DNA) is a molecule that carries the genetic instructions used in the growth, development, functioning and reproduction of all known living organisms and many viruses. DNA and RNA are nucleic...\n",
      "\n",
      "Chinese language 0.0046919943307590015\n",
      "https://en.wikipedia.org/wiki/Chinese_language\n",
      "Chinese (汉语/漢語; Hànyǔ or 中文; Zhōngwén) is a group of related, but in many cases mutually unintelligible, language varieties, forming a branch of the Sino-Tibetan language family. Chinese is spoken by the Han majority and many other ethnic groups in China....\n",
      "\n",
      "Japanese language 0.004543627168939817\n",
      "https://en.wikipedia.org/wiki/Japanese_language\n",
      "Japanese (日本語, Nihongo?, [nihõŋɡo] or [nihõŋŋo] ( listen)) is an East Asian language spoken by about 125 million speakers, primarily in Japan, where it is the national language. It is a member of the Japonic (or Japanese-Ryukyuan) language family, whose r...\n",
      "\n",
      "Korean language 0.003919566942884949\n",
      "https://en.wikipedia.org/wiki/Korean_language\n",
      "The Korean language (한국어/조선말, see below) is the official and national language of both Koreas: the Republic of Korea and the Democratic People's Republic of Korea, with different standardized official forms used in each nation-state. It is also one of the...\n",
      "\n",
      "Metres above sea level 0.0035805078804921602\n",
      "https://en.wikipedia.org/wiki/Above_mean_sea_level\n",
      "Metres above mean sea level (MAMSL) or simply metres above sea level (MASL or m a.s.l.) is a standard metric measurement in metres of the elevation or altitude of a location in reference to a historic mean sea level. Mean sea levels are affected by climat...\n",
      "\n",
      "Carbon 0.0030902713349386587\n",
      "https://en.wikipedia.org/wiki/Carbon\n",
      "Carbon (from Latin: carbo \"coal\") is a chemical element with symbol C and atomic number 6. It is nonmetallic and tetravalent—making four electrons available to form covalent chemical bonds. Three isotopes occur naturally, 12C and 13C being stable, while 1...\n",
      "\n",
      "Commonwealth of Nations 0.0028250626769209812\n",
      "https://en.wikipedia.org/wiki/Commonwealth_of_Nations\n",
      "The Commonwealth of Nations[2] (formerly the British Commonwealth),[3][4] also known as simply the Commonwealth, is an intergovernmental organisation of 52 member states that are mostly former territories of the British Empire.[4] The Commonwealth operate...\n",
      "\n",
      "Bahrain 0.0027034489374886082\n",
      "https://en.wikipedia.org/wiki/Bahrain\n",
      "Bahrain (i/bɑːˈreɪn/; Arabic: البحرين‎‎  al-Baḥrayn), officially the Kingdom of Bahrain (Arabic: مملكة البحرين‎‎  Mamlakat al-Baḥrayn), is a small Arab monarchy in the Persian Gulf. It is an island country consisting of a small archipelago centered around...\n",
      "\n"
     ]
    }
   ],
   "source": [
    "pagerank(G)"
   ]
  },
  {
   "cell_type": "markdown",
   "metadata": {},
   "source": [
    "### PageRank для alpha = 0.95"
   ]
  },
  {
   "cell_type": "code",
   "execution_count": 12,
   "metadata": {
    "scrolled": true
   },
   "outputs": [
    {
     "name": "stdout",
     "output_type": "stream",
     "text": [
      "United States 0.03276035239441285\n",
      "https://en.wikipedia.org/wiki/United_States\n",
      "Coordinates: 40°N 100°W﻿ / ﻿40°N 100°W﻿ / 40; -100...\n",
      "\n",
      "Ancient Greek 0.01034229716199733\n",
      "https://en.wikipedia.org/wiki/Ancient_Greek\n",
      "Ancient Greek includes the forms of Greek used in ancient Greece and the ancient world from around the 9th century BC to the 6th century AD. It is often roughly divided into the Archaic period (9th to 6th centuries BC), Classical period (5th and 4th centu...\n",
      "\n",
      "DNA 0.008955962451412931\n",
      "https://en.wikipedia.org/wiki/DNA\n",
      "Deoxyribonucleic acid (i/diˈɒksiˌraɪboʊnjʊˌkliːɪk, -ˌkleɪɪk/;[1] DNA) is a molecule that carries the genetic instructions used in the growth, development, functioning and reproduction of all known living organisms and many viruses. DNA and RNA are nucleic...\n",
      "\n",
      "Metres above sea level 0.0072589833533525504\n",
      "https://en.wikipedia.org/wiki/Above_mean_sea_level\n",
      "Metres above mean sea level (MAMSL) or simply metres above sea level (MASL or m a.s.l.) is a standard metric measurement in metres of the elevation or altitude of a location in reference to a historic mean sea level. Mean sea levels are affected by climat...\n",
      "\n",
      "Japanese language 0.005888417391156048\n",
      "https://en.wikipedia.org/wiki/Japanese_language\n",
      "Japanese (日本語, Nihongo?, [nihõŋɡo] or [nihõŋŋo] ( listen)) is an East Asian language spoken by about 125 million speakers, primarily in Japan, where it is the national language. It is a member of the Japonic (or Japanese-Ryukyuan) language family, whose r...\n",
      "\n",
      "Chinese language 0.005385642263019197\n",
      "https://en.wikipedia.org/wiki/Chinese_language\n",
      "Chinese (汉语/漢語; Hànyǔ or 中文; Zhōngwén) is a group of related, but in many cases mutually unintelligible, language varieties, forming a branch of the Sino-Tibetan language family. Chinese is spoken by the Han majority and many other ethnic groups in China....\n",
      "\n",
      "Korean language 0.005113216929468779\n",
      "https://en.wikipedia.org/wiki/Korean_language\n",
      "The Korean language (한국어/조선말, see below) is the official and national language of both Koreas: the Republic of Korea and the Democratic People's Republic of Korea, with different standardized official forms used in each nation-state. It is also one of the...\n",
      "\n",
      "Al-Andalus 0.003949652515256152\n",
      "https://en.wikipedia.org/wiki/Al-Andalus\n",
      "Al-Andalus (Arabic: الأندلس‎‎, trans: al-ʼAndalus; Spanish: al-Ándalus; Portuguese: al-Ândalus; Catalan: al-Àndalus; Berber: Andalus), also known as Muslim Spain or Islamic Iberia, was a medieval Muslim territory and cultural domain occupying at its peak ...\n",
      "\n",
      "Charlemagne 0.003800435235240165\n",
      "https://en.wikipedia.org/wiki/Charlemagne\n",
      "Charlemagne (/ˈʃɑːrlᵻmeɪn/) or Charles the Great[a] (2 April 742/747/748[1] – 28 January 814), numbered Charles I, was the King of the Franks from 768, King of the Lombards from 774 and Emperor of the Romans from 800. He united much of Europe during the e...\n",
      "\n",
      "Carbon 0.003500923722473328\n",
      "https://en.wikipedia.org/wiki/Carbon\n",
      "Carbon (from Latin: carbo \"coal\") is a chemical element with symbol C and atomic number 6. It is nonmetallic and tetravalent—making four electrons available to form covalent chemical bonds. Three isotopes occur naturally, 12C and 13C being stable, while 1...\n",
      "\n"
     ]
    }
   ],
   "source": [
    "pagerank(G, alpha=0.95)"
   ]
  },
  {
   "cell_type": "markdown",
   "metadata": {},
   "source": [
    "### PageRank для alpha = 0.5"
   ]
  },
  {
   "cell_type": "code",
   "execution_count": 10,
   "metadata": {},
   "outputs": [
    {
     "name": "stdout",
     "output_type": "stream",
     "text": [
      "United States 0.0184849550463837\n",
      "https://en.wikipedia.org/wiki/United_States\n",
      "Coordinates: 40°N 100°W﻿ / ﻿40°N 100°W﻿ / 40; -100...\n",
      "\n",
      "Ancient Greek 0.00445377062185952\n",
      "https://en.wikipedia.org/wiki/Ancient_Greek\n",
      "Ancient Greek includes the forms of Greek used in ancient Greece and the ancient world from around the 9th century BC to the 6th century AD. It is often roughly divided into the Archaic period (9th to 6th centuries BC), Classical period (5th and 4th centu...\n",
      "\n",
      "DNA 0.0025635913266018997\n",
      "https://en.wikipedia.org/wiki/DNA\n",
      "Deoxyribonucleic acid (i/diˈɒksiˌraɪboʊnjʊˌkliːɪk, -ˌkleɪɪk/;[1] DNA) is a molecule that carries the genetic instructions used in the growth, development, functioning and reproduction of all known living organisms and many viruses. DNA and RNA are nucleic...\n",
      "\n",
      "Chinese language 0.002514775919433548\n",
      "https://en.wikipedia.org/wiki/Chinese_language\n",
      "Chinese (汉语/漢語; Hànyǔ or 中文; Zhōngwén) is a group of related, but in many cases mutually unintelligible, language varieties, forming a branch of the Sino-Tibetan language family. Chinese is spoken by the Han majority and many other ethnic groups in China....\n",
      "\n",
      "Carbon 0.0017050517036231068\n",
      "https://en.wikipedia.org/wiki/Carbon\n",
      "Carbon (from Latin: carbo \"coal\") is a chemical element with symbol C and atomic number 6. It is nonmetallic and tetravalent—making four electrons available to form covalent chemical bonds. Three isotopes occur naturally, 12C and 13C being stable, while 1...\n",
      "\n",
      "Japanese language 0.001628521888671517\n",
      "https://en.wikipedia.org/wiki/Japanese_language\n",
      "Japanese (日本語, Nihongo?, [nihõŋɡo] or [nihõŋŋo] ( listen)) is an East Asian language spoken by about 125 million speakers, primarily in Japan, where it is the national language. It is a member of the Japonic (or Japanese-Ryukyuan) language family, whose r...\n",
      "\n",
      "Commonwealth of Nations 0.0015039209326500988\n",
      "https://en.wikipedia.org/wiki/Commonwealth_of_Nations\n",
      "The Commonwealth of Nations[2] (formerly the British Commonwealth),[3][4] also known as simply the Commonwealth, is an intergovernmental organisation of 52 member states that are mostly former territories of the British Empire.[4] The Commonwealth operate...\n",
      "\n",
      "Korean language 0.0013241464301473075\n",
      "https://en.wikipedia.org/wiki/Korean_language\n",
      "The Korean language (한국어/조선말, see below) is the official and national language of both Koreas: the Republic of Korea and the Democratic People's Republic of Korea, with different standardized official forms used in each nation-state. It is also one of the...\n",
      "\n",
      "Enzyme 0.0013011741859325042\n",
      "https://en.wikipedia.org/wiki/Enzyme\n",
      "Enzymes /ˈɛnzaɪmz/ are macromolecular biological catalysts. Enzymes accelerate, or catalyze, chemical reactions. The molecules at the beginning of the process upon which enzymes may act are called substrates and the enzyme converts these into different mo...\n",
      "\n",
      "Evolution 0.0011558411162906346\n",
      "https://en.wikipedia.org/wiki/Evolution\n",
      "Evolution is change in the heritable characteristics of biological populations over successive generations.[1][2] Evolutionary processes give rise to biodiversity at every level of biological organisation, including the levels of species, individual organ...\n",
      "\n"
     ]
    }
   ],
   "source": [
    "pagerank(G, alpha=0.5)"
   ]
  },
  {
   "cell_type": "markdown",
   "metadata": {},
   "source": [
    "### PageRank для alpha = 0.3"
   ]
  },
  {
   "cell_type": "code",
   "execution_count": 11,
   "metadata": {},
   "outputs": [
    {
     "name": "stdout",
     "output_type": "stream",
     "text": [
      "United States 0.011242922573482956\n",
      "https://en.wikipedia.org/wiki/United_States\n",
      "Coordinates: 40°N 100°W﻿ / ﻿40°N 100°W﻿ / 40; -100...\n",
      "\n",
      "Ancient Greek 0.0024165273283877097\n",
      "https://en.wikipedia.org/wiki/Ancient_Greek\n",
      "Ancient Greek includes the forms of Greek used in ancient Greece and the ancient world from around the 9th century BC to the 6th century AD. It is often roughly divided into the Archaic period (9th to 6th centuries BC), Classical period (5th and 4th centu...\n",
      "\n",
      "Chinese language 0.0014977823290465513\n",
      "https://en.wikipedia.org/wiki/Chinese_language\n",
      "Chinese (汉语/漢語; Hànyǔ or 中文; Zhōngwén) is a group of related, but in many cases mutually unintelligible, language varieties, forming a branch of the Sino-Tibetan language family. Chinese is spoken by the Han majority and many other ethnic groups in China....\n",
      "\n",
      "DNA 0.001380953306800126\n",
      "https://en.wikipedia.org/wiki/DNA\n",
      "Deoxyribonucleic acid (i/diˈɒksiˌraɪboʊnjʊˌkliːɪk, -ˌkleɪɪk/;[1] DNA) is a molecule that carries the genetic instructions used in the growth, development, functioning and reproduction of all known living organisms and many viruses. DNA and RNA are nucleic...\n",
      "\n",
      "Carbon 0.0009876223928621504\n",
      "https://en.wikipedia.org/wiki/Carbon\n",
      "Carbon (from Latin: carbo \"coal\") is a chemical element with symbol C and atomic number 6. It is nonmetallic and tetravalent—making four electrons available to form covalent chemical bonds. Three isotopes occur naturally, 12C and 13C being stable, while 1...\n",
      "\n",
      "Enzyme 0.0008432994692492896\n",
      "https://en.wikipedia.org/wiki/Enzyme\n",
      "Enzymes /ˈɛnzaɪmz/ are macromolecular biological catalysts. Enzymes accelerate, or catalyze, chemical reactions. The molecules at the beginning of the process upon which enzymes may act are called substrates and the enzyme converts these into different mo...\n",
      "\n",
      "Commonwealth of Nations 0.00083404911239515\n",
      "https://en.wikipedia.org/wiki/Commonwealth_of_Nations\n",
      "The Commonwealth of Nations[2] (formerly the British Commonwealth),[3][4] also known as simply the Commonwealth, is an intergovernmental organisation of 52 member states that are mostly former territories of the British Empire.[4] The Commonwealth operate...\n",
      "\n",
      "Japanese language 0.0007798144554704509\n",
      "https://en.wikipedia.org/wiki/Japanese_language\n",
      "Japanese (日本語, Nihongo?, [nihõŋɡo] or [nihõŋŋo] ( listen)) is an East Asian language spoken by about 125 million speakers, primarily in Japan, where it is the national language. It is a member of the Japonic (or Japanese-Ryukyuan) language family, whose r...\n",
      "\n",
      "Evolution 0.0007314577781638843\n",
      "https://en.wikipedia.org/wiki/Evolution\n",
      "Evolution is change in the heritable characteristics of biological populations over successive generations.[1][2] Evolutionary processes give rise to biodiversity at every level of biological organisation, including the levels of species, individual organ...\n",
      "\n",
      "Rugby union 0.0007091416521756115\n",
      "https://en.wikipedia.org/wiki/Rugby_union\n",
      "Rugby union, known in some parts of the world simply as rugby, is a contact team sport which originated in England in the first half of the 19th century.[3] One of the two codes of rugby football, it is based on running with the ball in hand. In its most ...\n",
      "\n"
     ]
    }
   ],
   "source": [
    "pagerank(G, alpha=0.3)"
   ]
  },
  {
   "cell_type": "markdown",
   "metadata": {},
   "source": [
    "## Выводы\n",
    "\n",
    "Из поученных резльтатов видно, что при изменении дампинг параметра у PageRank изменяются ранки, порядок и даже результаты в TOP-10.\n",
    "Для страниц с большим количеством входящих ссылок снижение дампинг параметра означает уменьшение составляющей зависящей от этих кол-ва этих ссылок, что в свою очередь означает уменьшение ранка в целом. Данное наблюдение подтверждается следуюющей формулой:\n",
    "```\n",
    "PR(A) = (1 - alpha) / N + alpha(PR(B)/L(B) + PR(C)/L(C) + PR(D)/L(D) + ...),\n",
    "```\n",
    "где PR(i) - ранк i-ой страницы, L(i) - кол-во исходящих ссылок из i-ой страницы, alpha - дампинг параметр"
   ]
  }
 ],
 "metadata": {
  "kernelspec": {
   "display_name": "Python 3",
   "language": "python",
   "name": "python3"
  },
  "language_info": {
   "codemirror_mode": {
    "name": "ipython",
    "version": 3
   },
   "file_extension": ".py",
   "mimetype": "text/x-python",
   "name": "python",
   "nbconvert_exporter": "python",
   "pygments_lexer": "ipython3",
   "version": "3.6.1"
  }
 },
 "nbformat": 4,
 "nbformat_minor": 2
}
